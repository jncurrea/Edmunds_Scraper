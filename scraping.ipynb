{
 "cells": [
  {
   "cell_type": "markdown",
   "metadata": {},
   "source": [
    "# Scraping Session\n"
   ]
  },
  {
   "cell_type": "markdown",
   "metadata": {},
   "source": [
    "### Selenium\n",
    "- Can get blocked if you use beautiful soup\n",
    "- relative path is better practice than absolute path\n",
    "- example starts with just one scraping example and has a for loop later \n",
    "- for first and second assignment you have static pages with static links\n",
    "- get about 5000\n",
    "- selenium takes much longer than beautiful soup \n",
    "- selenium --> \"slow but usually works\" "
   ]
  },
  {
   "cell_type": "markdown",
   "metadata": {},
   "source": [
    "### Requests --> Part of Selenium\n",
    "- didn't really get all of this"
   ]
  },
  {
   "cell_type": "markdown",
   "metadata": {},
   "source": [
    "### Beautiful Soup \n",
    "- "
   ]
  },
  {
   "cell_type": "markdown",
   "metadata": {},
   "source": [
    "To inspect just right click on whatever element you're looking at and click inspect element"
   ]
  },
  {
   "cell_type": "markdown",
   "metadata": {},
   "source": []
  }
 ],
 "metadata": {
  "language_info": {
   "name": "python"
  }
 },
 "nbformat": 4,
 "nbformat_minor": 2
}
