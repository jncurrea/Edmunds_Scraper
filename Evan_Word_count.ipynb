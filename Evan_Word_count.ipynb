{
 "cells": [
  {
   "cell_type": "code",
   "execution_count": 6,
   "id": "47663ac0",
   "metadata": {},
   "outputs": [
    {
     "name": "stdout",
     "output_type": "stream",
     "text": [
      "['i', 'me', 'my', 'myself', 'we', 'our', 'ours', 'ourselves', 'you', \"you're\", \"you've\", \"you'll\", \"you'd\", 'your', 'yours', 'yourself', 'yourselves', 'he', 'him', 'his', 'himself', 'she', \"she's\", 'her', 'hers', 'herself', 'it', \"it's\", 'its', 'itself', 'they', 'them', 'their', 'theirs', 'themselves', 'what', 'which', 'who', 'whom', 'this', 'that', \"that'll\", 'these', 'those', 'am', 'is', 'are', 'was', 'were', 'be', 'been', 'being', 'have', 'has', 'had', 'having', 'do', 'does', 'did', 'doing', 'a', 'an', 'the', 'and', 'but', 'if', 'or', 'because', 'as', 'until', 'while', 'of', 'at', 'by', 'for', 'with', 'about', 'against', 'between', 'into', 'through', 'during', 'before', 'after', 'above', 'below', 'to', 'from', 'up', 'down', 'in', 'out', 'on', 'off', 'over', 'under', 'again', 'further', 'then', 'once', 'here', 'there', 'when', 'where', 'why', 'how', 'all', 'any', 'both', 'each', 'few', 'more', 'most', 'other', 'some', 'such', 'no', 'nor', 'not', 'only', 'own', 'same', 'so', 'than', 'too', 'very', 's', 't', 'can', 'will', 'just', 'don', \"don't\", 'should', \"should've\", 'now', 'd', 'll', 'm', 'o', 're', 've', 'y', 'ain', 'aren', \"aren't\", 'couldn', \"couldn't\", 'didn', \"didn't\", 'doesn', \"doesn't\", 'hadn', \"hadn't\", 'hasn', \"hasn't\", 'haven', \"haven't\", 'isn', \"isn't\", 'ma', 'mightn', \"mightn't\", 'mustn', \"mustn't\", 'needn', \"needn't\", 'shan', \"shan't\", 'shouldn', \"shouldn't\", 'wasn', \"wasn't\", 'weren', \"weren't\", 'won', \"won't\", 'wouldn', \"wouldn't\"]\n"
     ]
    },
    {
     "name": "stderr",
     "output_type": "stream",
     "text": [
      "[nltk_data] Downloading package stopwords to\n",
      "[nltk_data]     /Users/ramzikattan/nltk_data...\n",
      "[nltk_data]   Package stopwords is already up-to-date!\n"
     ]
    }
   ],
   "source": [
    "import nltk\n",
    "\n",
    "# Download the stopwords corpus\n",
    "nltk.download('stopwords')\n",
    "\n",
    "# Test the installation\n",
    "from nltk.corpus import stopwords\n",
    "print(stopwords.words('english'))"
   ]
  },
  {
   "cell_type": "code",
   "execution_count": 7,
   "id": "243bbd25",
   "metadata": {},
   "outputs": [
    {
     "name": "stderr",
     "output_type": "stream",
     "text": [
      "[nltk_data] Downloading package stopwords to\n",
      "[nltk_data]     /Users/ramzikattan/nltk_data...\n",
      "[nltk_data]   Package stopwords is already up-to-date!\n"
     ]
    },
    {
     "name": "stdout",
     "output_type": "stream",
     "text": [
      "infiniti: 10089\n",
      "lexus: 9278\n",
      "car: 7064\n",
      "bmw: 5301\n",
      "like: 3729\n",
      "one: 3412\n",
      "would: 3214\n",
      "get: 3057\n",
      "acura: 2999\n",
      "dont: 2992\n",
      "think: 2645\n",
      "new: 2228\n",
      "much: 2102\n",
      "even: 2100\n",
      "better: 1999\n",
      "well: 1947\n",
      "infinitiinfiniti: 1927\n",
      "drive: 1923\n",
      "good: 1922\n",
      "audi: 1893\n",
      "know: 1866\n",
      "really: 1777\n",
      "also: 1661\n",
      "people: 1649\n",
      "sedan: 1615\n",
      "performance: 1598\n",
      "want: 1570\n",
      "honda: 1550\n",
      "time: 1544\n",
      "see: 1528\n",
      "still: 1524\n",
      "driving: 1517\n",
      "way: 1476\n",
      "thats: 1454\n",
      "make: 1452\n",
      "say: 1427\n",
      "years: 1425\n",
      "price: 1420\n",
      "could: 1403\n",
      "go: 1322\n"
     ]
    }
   ],
   "source": [
    "import csv\n",
    "import string\n",
    "import nltk\n",
    "from nltk.corpus import stopwords\n",
    "\n",
    "# Download and set up stopwords from the NLTK package\n",
    "nltk.download('stopwords')\n",
    "stop_words = set(stopwords.words('english'))\n",
    "\n",
    "def clean_text(text):\n",
    "    \"\"\"\n",
    "    Cleans a given text by removing punctuation, converting it to lowercase,\n",
    "    and tokenizing it, ignoring any stopwords.\n",
    "    \"\"\"\n",
    "    # Remove punctuation\n",
    "    text = text.translate(str.maketrans('', '', string.punctuation))\n",
    "    # Convert to lowercase and split into words\n",
    "    words = text.lower().split()\n",
    "    # Remove stopwords\n",
    "    words = [word for word in words if word not in stop_words]\n",
    "    return words\n",
    "\n",
    "def count_unique_words(input_filename, output_filename):\n",
    "    \"\"\"\n",
    "    Counts the frequency of each unique word in the \"messages\" column of the input CSV file,\n",
    "    excluding stopwords and counting each word only once per post.\n",
    "    Writes the word counts to the specified output file.\n",
    "    \"\"\"\n",
    "    word_count = {}\n",
    "\n",
    "    with open(input_filename, 'r') as file:\n",
    "        reader = csv.DictReader(file)  # Use DictReader to read columns by name\n",
    "        for row in reader:\n",
    "            post = clean_text(row['message'])  # Access the \"messages\" column\n",
    "            unique_words = set(post)  # Use set to avoid double counting within the same post\n",
    "            for word in unique_words:\n",
    "                word_count[word] = word_count.get(word, 0) + 1\n",
    "\n",
    "    # Write the word counts to the output file\n",
    "    with open(output_filename, 'w') as file:\n",
    "        writer = csv.writer(file)\n",
    "        writer.writerow(['word', 'count'])  # Write header\n",
    "        for word, count in word_count.items():\n",
    "            writer.writerow([word, count])\n",
    "            \n",
    "def sort_word_counts(file_path, top_n=10):\n",
    "    \"\"\"\n",
    "    Sorts the word counts by the number of mentions (descending) and returns the top N words.\n",
    "    \"\"\"\n",
    "    word_count = []\n",
    "\n",
    "    # Read the word count data from the file\n",
    "    with open(file_path, 'r') as file:\n",
    "        reader = csv.reader(file)\n",
    "        next(reader)  # Skip header row\n",
    "        for row in reader:\n",
    "            word, count = row[0], int(row[1])\n",
    "            word_count.append((word, count))\n",
    "\n",
    "    # Sort by count in descending order\n",
    "    sorted_word_count = sorted(word_count, key=lambda x: x[1], reverse=True)\n",
    "\n",
    "    # Return the top N words\n",
    "    top_words = sorted_word_count[:top_n]\n",
    "    \n",
    "    # Print the top N words\n",
    "    for word, count in top_words:\n",
    "        print(f\"{word}: {count}\")\n",
    "\n",
    "    return top_words\n",
    "\n",
    "# Usage\n",
    "input_file = 'replaced_data.csv'  # Input data file with \"messages\" column\n",
    "output_word_counts = 'brand_counts.csv'  # Output file for word counts\n",
    "\n",
    "count_unique_words(input_file, output_word_counts)\n",
    "top_n = 40  # Number of top words to return\n",
    "\n",
    "top_words = sort_word_counts(output_word_counts, top_n)\n",
    "\n"
   ]
  },
  {
   "cell_type": "code",
   "execution_count": 8,
   "id": "3662aa53",
   "metadata": {},
   "outputs": [
    {
     "ename": "FileNotFoundError",
     "evalue": "[Errno 2] No such file or directory: 'brand_counts_sorted.csv'",
     "output_type": "error",
     "traceback": [
      "\u001b[0;31m---------------------------------------------------------------------------\u001b[0m",
      "\u001b[0;31mFileNotFoundError\u001b[0m                         Traceback (most recent call last)",
      "Cell \u001b[0;32mIn[8], line 33\u001b[0m\n\u001b[1;32m     30\u001b[0m output_word_counts \u001b[38;5;241m=\u001b[39m \u001b[38;5;124m'\u001b[39m\u001b[38;5;124mbrand_counts_sorted.csv\u001b[39m\u001b[38;5;124m'\u001b[39m  \u001b[38;5;66;03m# Input file with word counts\u001b[39;00m\n\u001b[1;32m     31\u001b[0m top_n \u001b[38;5;241m=\u001b[39m \u001b[38;5;241m40\u001b[39m  \u001b[38;5;66;03m# Number of top words to return\u001b[39;00m\n\u001b[0;32m---> 33\u001b[0m top_words \u001b[38;5;241m=\u001b[39m sort_word_counts(output_word_counts, top_n)\n",
      "Cell \u001b[0;32mIn[8], line 10\u001b[0m, in \u001b[0;36msort_word_counts\u001b[0;34m(file_path, top_n)\u001b[0m\n\u001b[1;32m      7\u001b[0m word_count \u001b[38;5;241m=\u001b[39m []\n\u001b[1;32m      9\u001b[0m \u001b[38;5;66;03m# Read the word count data from the file\u001b[39;00m\n\u001b[0;32m---> 10\u001b[0m \u001b[38;5;28;01mwith\u001b[39;00m \u001b[38;5;28mopen\u001b[39m(file_path, \u001b[38;5;124m'\u001b[39m\u001b[38;5;124mr\u001b[39m\u001b[38;5;124m'\u001b[39m) \u001b[38;5;28;01mas\u001b[39;00m file:\n\u001b[1;32m     11\u001b[0m     reader \u001b[38;5;241m=\u001b[39m csv\u001b[38;5;241m.\u001b[39mreader(file)\n\u001b[1;32m     12\u001b[0m     \u001b[38;5;28mnext\u001b[39m(reader)  \u001b[38;5;66;03m# Skip header row\u001b[39;00m\n",
      "File \u001b[0;32m/opt/anaconda3/lib/python3.12/site-packages/IPython/core/interactiveshell.py:324\u001b[0m, in \u001b[0;36m_modified_open\u001b[0;34m(file, *args, **kwargs)\u001b[0m\n\u001b[1;32m    317\u001b[0m \u001b[38;5;28;01mif\u001b[39;00m file \u001b[38;5;129;01min\u001b[39;00m {\u001b[38;5;241m0\u001b[39m, \u001b[38;5;241m1\u001b[39m, \u001b[38;5;241m2\u001b[39m}:\n\u001b[1;32m    318\u001b[0m     \u001b[38;5;28;01mraise\u001b[39;00m \u001b[38;5;167;01mValueError\u001b[39;00m(\n\u001b[1;32m    319\u001b[0m         \u001b[38;5;124mf\u001b[39m\u001b[38;5;124m\"\u001b[39m\u001b[38;5;124mIPython won\u001b[39m\u001b[38;5;124m'\u001b[39m\u001b[38;5;124mt let you open fd=\u001b[39m\u001b[38;5;132;01m{\u001b[39;00mfile\u001b[38;5;132;01m}\u001b[39;00m\u001b[38;5;124m by default \u001b[39m\u001b[38;5;124m\"\u001b[39m\n\u001b[1;32m    320\u001b[0m         \u001b[38;5;124m\"\u001b[39m\u001b[38;5;124mas it is likely to crash IPython. If you know what you are doing, \u001b[39m\u001b[38;5;124m\"\u001b[39m\n\u001b[1;32m    321\u001b[0m         \u001b[38;5;124m\"\u001b[39m\u001b[38;5;124myou can use builtins\u001b[39m\u001b[38;5;124m'\u001b[39m\u001b[38;5;124m open.\u001b[39m\u001b[38;5;124m\"\u001b[39m\n\u001b[1;32m    322\u001b[0m     )\n\u001b[0;32m--> 324\u001b[0m \u001b[38;5;28;01mreturn\u001b[39;00m io_open(file, \u001b[38;5;241m*\u001b[39margs, \u001b[38;5;241m*\u001b[39m\u001b[38;5;241m*\u001b[39mkwargs)\n",
      "\u001b[0;31mFileNotFoundError\u001b[0m: [Errno 2] No such file or directory: 'brand_counts_sorted.csv'"
     ]
    }
   ],
   "source": [
    "import csv\n",
    "\n",
    "def sort_word_counts(file_path, top_n=10):\n",
    "    \"\"\"\n",
    "    Sorts the word counts by the number of mentions (descending) and returns the top N words.\n",
    "    \"\"\"\n",
    "    word_count = []\n",
    "\n",
    "    # Read the word count data from the file\n",
    "    with open(file_path, 'r') as file:\n",
    "        reader = csv.reader(file)\n",
    "        next(reader)  # Skip header row\n",
    "        for row in reader:\n",
    "            word, count = row[0], int(row[1])\n",
    "            word_count.append((word, count))\n",
    "\n",
    "    # Sort by count in descending order\n",
    "    sorted_word_count = sorted(word_count, key=lambda x: x[1], reverse=True)\n",
    "\n",
    "    # Return the top N words\n",
    "    top_words = sorted_word_count[:top_n]\n",
    "    \n",
    "    # Print the top N words\n",
    "    for word, count in top_words:\n",
    "        print(f\"{word}: {count}\")\n",
    "\n",
    "    return top_words\n",
    "\n",
    "# Usage\n",
    "output_word_counts = 'brand_counts_sorted.csv'  # Input file with word counts\n",
    "top_n = 40  # Number of top words to return\n",
    "\n",
    "top_words = sort_word_counts(output_word_counts, top_n)\n"
   ]
  },
  {
   "cell_type": "code",
   "execution_count": null,
   "id": "15016d3a",
   "metadata": {},
   "outputs": [],
   "source": []
  }
 ],
 "metadata": {
  "kernelspec": {
   "display_name": "Python 3 (ipykernel)",
   "language": "python",
   "name": "python3"
  },
  "language_info": {
   "codemirror_mode": {
    "name": "ipython",
    "version": 3
   },
   "file_extension": ".py",
   "mimetype": "text/x-python",
   "name": "python",
   "nbconvert_exporter": "python",
   "pygments_lexer": "ipython3",
   "version": "3.12.2"
  }
 },
 "nbformat": 4,
 "nbformat_minor": 5
}
