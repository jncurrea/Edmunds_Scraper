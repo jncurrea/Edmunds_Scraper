{
 "cells": [
  {
   "cell_type": "code",
   "execution_count": 2,
   "metadata": {},
   "outputs": [],
   "source": [
    "from selenium import webdriver\n",
    "import pandas as pd\n",
    "import nltk\n",
    "from collections import Counter \n",
    "import itertools\n",
    "import numpy as np\n",
    "import matplotlib.pyplot as plt\n",
    "from sklearn import manifold\n",
    "import string\n",
    "import seaborn as sns\n",
    "from nltk.tokenize import RegexpTokenizer\n",
    "#nltk.download('stopwords')\n",
    "#nltk.download('punkt')\n",
    "import string\n",
    "import operator\n",
    "import io\n",
    "from selenium.webdriver.common.by import By\n",
    "import requests\n",
    "from bs4 import BeautifulSoup"
   ]
  },
  {
   "cell_type": "markdown",
   "metadata": {},
   "source": [
    "# Scraper Engine"
   ]
  },
  {
   "cell_type": "code",
   "execution_count": 3,
   "metadata": {},
   "outputs": [],
   "source": [
    "# Create Necessary DataFrame\n",
    "df = pd.DataFrame(columns=['date', 'message'])\n",
    "\n",
    "# Loop through pages\n",
    "for i in range(1, 350):\n",
    "    url = \"https://forums.edmunds.com/discussion/2864/general/x/entry-level-luxury-performance-sedans/p\" + str(i)\n",
    "    \n",
    "    # Fetch the page content\n",
    "    response = requests.get(url)\n",
    "    soup = BeautifulSoup(response.text, 'html.parser')\n",
    "    \n",
    "    # Find all comment blocks on the page\n",
    "    comments = soup.find_all('li', class_='Item ItemComment noPhotoWrap Role_Member pageBox')\n",
    "    \n",
    "    for comment in comments:\n",
    "        # Extract the date\n",
    "        date = comment.find('time')\n",
    "        date_text = date['datetime'] if date else None\n",
    "        \n",
    "        # Extract the message content\n",
    "        message_div = comment.find('div', class_='Message userContent')\n",
    "        \n",
    "        if message_div:\n",
    "            # Remove blockquotes (replies to comments)\n",
    "            for blockquote in message_div.find_all('blockquote'):\n",
    "                blockquote.decompose()\n",
    "            \n",
    "            # Get the cleaned text\n",
    "            message_text = message_div.get_text(separator=\"\\n\", strip=True)\n",
    "            \n",
    "            # Append to the DataFrame\n",
    "            #df = df.append({'date': date_text, 'message': message_text}, ignore_index=True)\n",
    "            new_row = pd.DataFrame({'date': [date_text], 'message': [message_text]})\n",
    "\n",
    "            # Concatenate the new row with the existing DataFrame\n",
    "            df = pd.concat([df, new_row], ignore_index=True)"
   ]
  },
  {
   "cell_type": "code",
   "execution_count": 4,
   "metadata": {},
   "outputs": [],
   "source": [
    "# Remove messages with empty string\n",
    "df = df[df['message'] != '']\n",
    "#Convert date to MM/DD/YYYY\n",
    "df['date'] = pd.to_datetime(df['date']).dt.strftime('%m/%d/%Y')"
   ]
  },
  {
   "cell_type": "code",
   "execution_count": 5,
   "metadata": {},
   "outputs": [
    {
     "data": {
      "text/html": [
       "<div>\n",
       "<style scoped>\n",
       "    .dataframe tbody tr th:only-of-type {\n",
       "        vertical-align: middle;\n",
       "    }\n",
       "\n",
       "    .dataframe tbody tr th {\n",
       "        vertical-align: top;\n",
       "    }\n",
       "\n",
       "    .dataframe thead th {\n",
       "        text-align: right;\n",
       "    }\n",
       "</style>\n",
       "<table border=\"1\" class=\"dataframe\">\n",
       "  <thead>\n",
       "    <tr style=\"text-align: right;\">\n",
       "      <th></th>\n",
       "      <th>date</th>\n",
       "      <th>message</th>\n",
       "    </tr>\n",
       "  </thead>\n",
       "  <tbody>\n",
       "    <tr>\n",
       "      <th>0</th>\n",
       "      <td>03/25/2002</td>\n",
       "      <td>I am debating a new purchase and these two are...</td>\n",
       "    </tr>\n",
       "    <tr>\n",
       "      <th>1</th>\n",
       "      <td>03/25/2002</td>\n",
       "      <td>And no manual tranny. That may not matter to y...</td>\n",
       "    </tr>\n",
       "    <tr>\n",
       "      <th>2</th>\n",
       "      <td>03/26/2002</td>\n",
       "      <td>good grief, so you wait 9 months for the manua...</td>\n",
       "    </tr>\n",
       "    <tr>\n",
       "      <th>3</th>\n",
       "      <td>03/26/2002</td>\n",
       "      <td>I understand it's not about the speed. I reall...</td>\n",
       "    </tr>\n",
       "    <tr>\n",
       "      <th>4</th>\n",
       "      <td>03/27/2002</td>\n",
       "      <td>Is there such a thing as an automatic-only tru...</td>\n",
       "    </tr>\n",
       "    <tr>\n",
       "      <th>...</th>\n",
       "      <td>...</td>\n",
       "      <td>...</td>\n",
       "    </tr>\n",
       "    <tr>\n",
       "      <th>8489</th>\n",
       "      <td>08/27/2014</td>\n",
       "      <td>I tried using the maps on my iPhone but couldn...</td>\n",
       "    </tr>\n",
       "    <tr>\n",
       "      <th>8490</th>\n",
       "      <td>08/27/2014</td>\n",
       "      <td>Now I'm not too sure how Audi or MB does it, b...</td>\n",
       "    </tr>\n",
       "    <tr>\n",
       "      <th>8491</th>\n",
       "      <td>08/27/2014</td>\n",
       "      <td>I have 8 days left- spread out over the next 4...</td>\n",
       "    </tr>\n",
       "    <tr>\n",
       "      <th>8492</th>\n",
       "      <td>08/27/2014</td>\n",
       "      <td>Yeah, I had that in my previous BMW and used t...</td>\n",
       "    </tr>\n",
       "    <tr>\n",
       "      <th>8493</th>\n",
       "      <td>08/27/2014</td>\n",
       "      <td>Only twice, but It's one of the tracks I get i...</td>\n",
       "    </tr>\n",
       "  </tbody>\n",
       "</table>\n",
       "<p>8478 rows × 2 columns</p>\n",
       "</div>"
      ],
      "text/plain": [
       "            date                                            message\n",
       "0     03/25/2002  I am debating a new purchase and these two are...\n",
       "1     03/25/2002  And no manual tranny. That may not matter to y...\n",
       "2     03/26/2002  good grief, so you wait 9 months for the manua...\n",
       "3     03/26/2002  I understand it's not about the speed. I reall...\n",
       "4     03/27/2002  Is there such a thing as an automatic-only tru...\n",
       "...          ...                                                ...\n",
       "8489  08/27/2014  I tried using the maps on my iPhone but couldn...\n",
       "8490  08/27/2014  Now I'm not too sure how Audi or MB does it, b...\n",
       "8491  08/27/2014  I have 8 days left- spread out over the next 4...\n",
       "8492  08/27/2014  Yeah, I had that in my previous BMW and used t...\n",
       "8493  08/27/2014  Only twice, but It's one of the tracks I get i...\n",
       "\n",
       "[8478 rows x 2 columns]"
      ]
     },
     "execution_count": 5,
     "metadata": {},
     "output_type": "execute_result"
    }
   ],
   "source": [
    "df"
   ]
  },
  {
   "cell_type": "code",
   "execution_count": 6,
   "metadata": {},
   "outputs": [],
   "source": [
    "# Download to CSV\n",
    "df.to_csv('edmunds_scraper.csv', index=False)"
   ]
  },
  {
   "cell_type": "markdown",
   "metadata": {},
   "source": [
    "## Task A\n",
    "- Does the data support Zipf’s law econometrically?\n",
    "- Plot the most common 100 words in the data against the theoretical prediction of the law."
   ]
  },
  {
   "cell_type": "code",
   "execution_count": 7,
   "metadata": {},
   "outputs": [
    {
     "data": {
      "text/plain": [
       "the        42357\n",
       "a          22036\n",
       "to         17889\n",
       "and        17488\n",
       "I          17327\n",
       "           ...  \n",
       "could        961\n",
       "--           953\n",
       "driving      953\n",
       "who          941\n",
       "most         937\n",
       "Name: count, Length: 100, dtype: int64"
      ]
     },
     "execution_count": 7,
     "metadata": {},
     "output_type": "execute_result"
    }
   ],
   "source": [
    "# Does the data support Zipf's law?\n",
    "# Plot the top 100 words against teoretical Zipf's law\n",
    "top_words = df['message'].str.split(expand=True).stack().value_counts()[:100]\n",
    "\n",
    "top_words"
   ]
  },
  {
   "cell_type": "markdown",
   "metadata": {},
   "source": [
    "### Does it follow zipf's law?\n",
    "It appears, based on our sample of just 100 words, that this data is following Zipf's law. Notice how when comparing the ratio of the second ranked word \"A\" to the firs ranked word \"THE\", the proportion is close to half.\n",
    "- $$ \\frac{16.445}{30.961} = 0.53 $$\n",
    "\n",
    "Likewise, when comparing the third ranked word \"TO\" with \"THE\", we get a value close to a third. The ratio of around 0.43 is reasonably close, especially given the small sample size.\n",
    "\n",
    "- $$ \\frac{13.225}{30.961} = 0.43 $$"
   ]
  },
  {
   "cell_type": "code",
   "execution_count": 8,
   "metadata": {},
   "outputs": [
    {
     "data": {
      "image/png": "[encoded data removed]",
      "text/plain": [
       "<Figure size 640x480 with 1 Axes>"
      ]
     },
     "metadata": {},
     "output_type": "display_data"
    }
   ],
   "source": [
    "# Plot the top 100 words against teoretical Zipf's law\n",
    "top_words = df['message'].str.split(expand=True).stack().value_counts()[:100]\n",
    "\n",
    "# Rank of the words\n",
    "ranks = np.arange(1, 101)\n",
    "\n",
    "# Calculate the theoretical Zipf's Law frequencies\n",
    "# The first word's frequency is the baseline\n",
    "baseline = top_words.values[0]\n",
    "theoretical_zipf = baseline / ranks\n",
    "\n",
    "# Plot the actual data\n",
    "plt.plot(ranks, top_words.values, label='Actual Data')\n",
    "\n",
    "# Plot the theoretical Zipf's Law line\n",
    "plt.plot(ranks, theoretical_zipf, linestyle='--', color='red', label='Zipf\\'s Law')\n",
    "\n",
    "# Set log scale for both axes\n",
    "plt.xscale('log')\n",
    "plt.yscale('log')\n",
    "\n",
    "# Add labels and title\n",
    "plt.xlabel('Rank')\n",
    "plt.ylabel('Frequency')\n",
    "plt.title('Top 100 Words with Zipf\\'s Law Trendline')\n",
    "\n",
    "# Add a legend\n",
    "plt.legend()\n",
    "\n",
    "# Show the plot\n",
    "plt.show()"
   ]
  },
  {
   "cell_type": "markdown",
   "metadata": {},
   "source": [
    "Our plot clearly demonstrates that the word frequencies in our dataset generally follow Zipf's Law. The blue line, representing our actual data, closely tracks the red dashed line, which represents the theoretical frequencies predicted by Zipf's Law. \n",
    "This alignment suggests that the distribution of word frequencies in our dataset is typical of natural language. A few words are used very frequently, while most words are less common, following the inverse relationship described by Zipf's Law."
   ]
  },
  {
   "cell_type": "code",
   "execution_count": 9,
   "metadata": {},
   "outputs": [],
   "source": [
    "df_test = df[:3]\n",
    "df_test.to_csv('test.csv', index=False)"
   ]
  },
  {
   "cell_type": "code",
   "execution_count": null,
   "metadata": {},
   "outputs": [],
   "source": []
  }
 ],
 "metadata": {
  "kernelspec": {
   "display_name": "r-tensorflow",
   "language": "python",
   "name": "python3"
  },
  "language_info": {
   "codemirror_mode": {
    "name": "ipython",
    "version": 3
   },
   "file_extension": ".py",
   "mimetype": "text/x-python",
   "name": "python",
   "nbconvert_exporter": "python",
   "pygments_lexer": "ipython3",
   "version": "3.12.4"
  }
 },
 "nbformat": 4,
 "nbformat_minor": 2
}
